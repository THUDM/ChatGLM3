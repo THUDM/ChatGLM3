{
 "cells": [
  {
   "cell_type": "markdown",
   "id": "ea8098ca-c9eb-4ed6-ab57-3f98c715ef82",
   "metadata": {},
   "source": [
    "在本章节，我们将同时加载chatglm3 base + finetune_lora_chatglm3。完成一个由微调后的chatglm3充当agent，做下游任务的例子。\n",
    "我们使用的是一个文本情感分类的数据集，数据集格式为alpca格式。\n",
    "finetun脚本基于finetune_basemodel_demo。\n",
    "\n",
    "chatglm3 base作为意图识别模块，作为路由对下游的tools进行调用。\n",
    "\n",
    "同时使用chatglm3本身作为一个embedding模块，完成知识库的检索召回（召回模块解耦，可替换为其他模型。）"
   ]
  },
  {
   "cell_type": "code",
   "execution_count": null,
   "id": "77a8e414-95af-4add-a571-e5a4931cd51c",
   "metadata": {},
   "outputs": [],
   "source": [
    "# 导入必要的包\n",
    "from langchain.agents import AgentExecutor\n",
    "from langchain.llms import AzureOpenAI\n",
    "import openai\n",
    "from llm import ChatGLM3\n",
    "from tools import SearchTool, Text_classification_Tool\n",
    "from agent import IntentAgent\n",
    "import copy\n",
    "import os"
   ]
  },
  {
   "cell_type": "code",
   "execution_count": null,
   "id": "f2cd9363-38d4-4150-8044-1ae4cd115e64",
   "metadata": {},
   "outputs": [],
   "source": [
    "# google search api ley\n",
    "GOOGLE_API_KEY = \"\"\n",
    "GOOGLE_CSE_ID = \"\""
   ]
  },
  {
   "cell_type": "code",
   "execution_count": null,
   "id": "66394419-af1c-4fec-a30a-1895d591e0dc",
   "metadata": {},
   "outputs": [],
   "source": [
    "model_path = \"THUDM/chatglm3-6b-base\"\n",
    "llm_base = ChatGLM3(model_path=model_path) # base chatglm3模型\n",
    "llm_text_cls = ChatGLM3(model_path=model_path) # finetune好的chatglm3模型"
   ]
  },
  {
   "cell_type": "code",
   "execution_count": null,
   "id": "af898d71-7b98-4865-b95a-9d0a3e96cc09",
   "metadata": {},
   "outputs": [],
   "source": [
    "# 模型加载\n",
    "llm_base.load_model()\n",
    "llm_text_cls.load_model_from_checkpoint(checkpoint=\"text_classification\")"
   ]
  },
  {
   "cell_type": "code",
   "execution_count": null,
   "id": "45d7c3c3-e278-40a7-9a4d-e52779a0b8ed",
   "metadata": {},
   "outputs": [],
   "source": [
    "# 下游可路由的工具列表\n",
    "tools = [SearchTool(llm=llm_ori, google_api_key=GOOGLE_API_KEY, google_cse_id=GOOGLE_CSE_ID),\n",
    "         Text_classification_Tool(llm=llm_text_cls)]"
   ]
  },
  {
   "cell_type": "code",
   "execution_count": null,
   "id": "e9b614b7-ad9a-4a7a-bff7-4b357cc94e5a",
   "metadata": {},
   "outputs": [],
   "source": [
    "# 意图识别agent使用chatglm3 base充当\n",
    "agent = IntentAgent(tools=tools, llm=llm_base)\n",
    "agent_exec = AgentExecutor.from_agent_and_tools(agent=agent, tools=tools, verbose=True, max_iterations=1)\n",
    "agent_exec.run(\"Input:今天丢失了我的钱包，里面有很重要的东西，心情很沮丧\")"
   ]
  }
 ],
 "metadata": {
  "kernelspec": {
   "display_name": "Python 3 (ipykernel)",
   "language": "python",
   "name": "python3"
  },
  "language_info": {
   "codemirror_mode": {
    "name": "ipython",
    "version": 3
   },
   "file_extension": ".py",
   "mimetype": "text/x-python",
   "name": "python",
   "nbconvert_exporter": "python",
   "pygments_lexer": "ipython3",
   "version": "3.9.16"
  }
 },
 "nbformat": 4,
 "nbformat_minor": 5
}
